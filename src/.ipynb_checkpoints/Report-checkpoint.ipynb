{
 "cells": [
  {
   "cell_type": "markdown",
   "metadata": {},
   "source": [
    "# Libraries"
   ]
  },
  {
   "cell_type": "code",
   "execution_count": 1,
   "metadata": {},
   "outputs": [],
   "source": [
    "import pandas as pd\n",
    "import os\n",
    "import datetime"
   ]
  },
  {
   "cell_type": "markdown",
   "metadata": {},
   "source": [
    "# Read Data"
   ]
  },
  {
   "cell_type": "code",
   "execution_count": 2,
   "metadata": {},
   "outputs": [],
   "source": [
    "file_name=\"events_log.csv.gz\"\n",
    "data_path = os.path.join(\"../data/\")\n",
    "data_path_file = data_path + file_name\n",
    "\n",
    "#read and write to transform integer timestamp in the correct format\n",
    "data = pd.read_csv(data_path_file, compression='gzip',dtype={'timestamp': 'Int64'})\n",
    "data.to_csv(data_path+'new_events_log.csv')\n",
    "data = pd.read_csv(data_path+\"new_events_log.csv\",\n",
    "                     parse_dates=['timestamp'], \n",
    "                     index_col='timestamp')   \n",
    "# drop some extra column\n",
    "data = data.drop('Unnamed: 0',axis=1)"
   ]
  },
  {
   "cell_type": "code",
   "execution_count": 3,
   "metadata": {},
   "outputs": [
    {
     "data": {
      "text/html": [
       "<div>\n",
       "<style scoped>\n",
       "    .dataframe tbody tr th:only-of-type {\n",
       "        vertical-align: middle;\n",
       "    }\n",
       "\n",
       "    .dataframe tbody tr th {\n",
       "        vertical-align: top;\n",
       "    }\n",
       "\n",
       "    .dataframe thead th {\n",
       "        text-align: right;\n",
       "    }\n",
       "</style>\n",
       "<table border=\"1\" class=\"dataframe\">\n",
       "  <thead>\n",
       "    <tr style=\"text-align: right;\">\n",
       "      <th></th>\n",
       "      <th>uuid</th>\n",
       "      <th>session_id</th>\n",
       "      <th>group</th>\n",
       "      <th>action</th>\n",
       "      <th>checkin</th>\n",
       "      <th>page_id</th>\n",
       "      <th>n_results</th>\n",
       "      <th>result_position</th>\n",
       "    </tr>\n",
       "    <tr>\n",
       "      <th>timestamp</th>\n",
       "      <th></th>\n",
       "      <th></th>\n",
       "      <th></th>\n",
       "      <th></th>\n",
       "      <th></th>\n",
       "      <th></th>\n",
       "      <th></th>\n",
       "      <th></th>\n",
       "    </tr>\n",
       "  </thead>\n",
       "  <tbody>\n",
       "    <tr>\n",
       "      <th>2016-03-01 10:38:42</th>\n",
       "      <td>00000736167c507e8ec225bd9e71f9e5</td>\n",
       "      <td>78245c2c3fba013a</td>\n",
       "      <td>b</td>\n",
       "      <td>searchResultPage</td>\n",
       "      <td>NaN</td>\n",
       "      <td>cbeb66d1bc1f1bc2</td>\n",
       "      <td>5.0</td>\n",
       "      <td>NaN</td>\n",
       "    </tr>\n",
       "    <tr>\n",
       "      <th>2016-03-07 00:52:26</th>\n",
       "      <td>00000c69fe345268935463abbfa5d5b3</td>\n",
       "      <td>c559c3be98dca8a4</td>\n",
       "      <td>a</td>\n",
       "      <td>searchResultPage</td>\n",
       "      <td>NaN</td>\n",
       "      <td>eb658e8722aad674</td>\n",
       "      <td>10.0</td>\n",
       "      <td>NaN</td>\n",
       "    </tr>\n",
       "    <tr>\n",
       "      <th>2016-03-02 14:53:05</th>\n",
       "      <td>00003bfdab715ee59077a3670331b787</td>\n",
       "      <td>760bf89817ce4b08</td>\n",
       "      <td>a</td>\n",
       "      <td>checkin</td>\n",
       "      <td>30.0</td>\n",
       "      <td>f99a9fc1f7fdd21e</td>\n",
       "      <td>NaN</td>\n",
       "      <td>NaN</td>\n",
       "    </tr>\n",
       "    <tr>\n",
       "      <th>2016-03-02 22:27:01</th>\n",
       "      <td>0000465cd7c35ad2bdeafec953e08c1a</td>\n",
       "      <td>fb905603d31b2071</td>\n",
       "      <td>a</td>\n",
       "      <td>checkin</td>\n",
       "      <td>60.0</td>\n",
       "      <td>e5626962a6939a75</td>\n",
       "      <td>NaN</td>\n",
       "      <td>10.0</td>\n",
       "    </tr>\n",
       "    <tr>\n",
       "      <th>2016-03-02 09:50:23</th>\n",
       "      <td>000050cbb4ef5b42b16c4d2cf69e6358</td>\n",
       "      <td>c2bf5e5172a892dc</td>\n",
       "      <td>a</td>\n",
       "      <td>checkin</td>\n",
       "      <td>30.0</td>\n",
       "      <td>787dd6a4c371cbf9</td>\n",
       "      <td>NaN</td>\n",
       "      <td>NaN</td>\n",
       "    </tr>\n",
       "  </tbody>\n",
       "</table>\n",
       "</div>"
      ],
      "text/plain": [
       "                                                 uuid        session_id group  \\\n",
       "timestamp                                                                       \n",
       "2016-03-01 10:38:42  00000736167c507e8ec225bd9e71f9e5  78245c2c3fba013a     b   \n",
       "2016-03-07 00:52:26  00000c69fe345268935463abbfa5d5b3  c559c3be98dca8a4     a   \n",
       "2016-03-02 14:53:05  00003bfdab715ee59077a3670331b787  760bf89817ce4b08     a   \n",
       "2016-03-02 22:27:01  0000465cd7c35ad2bdeafec953e08c1a  fb905603d31b2071     a   \n",
       "2016-03-02 09:50:23  000050cbb4ef5b42b16c4d2cf69e6358  c2bf5e5172a892dc     a   \n",
       "\n",
       "                               action  checkin           page_id  n_results  \\\n",
       "timestamp                                                                     \n",
       "2016-03-01 10:38:42  searchResultPage      NaN  cbeb66d1bc1f1bc2        5.0   \n",
       "2016-03-07 00:52:26  searchResultPage      NaN  eb658e8722aad674       10.0   \n",
       "2016-03-02 14:53:05           checkin     30.0  f99a9fc1f7fdd21e        NaN   \n",
       "2016-03-02 22:27:01           checkin     60.0  e5626962a6939a75        NaN   \n",
       "2016-03-02 09:50:23           checkin     30.0  787dd6a4c371cbf9        NaN   \n",
       "\n",
       "                     result_position  \n",
       "timestamp                             \n",
       "2016-03-01 10:38:42              NaN  \n",
       "2016-03-07 00:52:26              NaN  \n",
       "2016-03-02 14:53:05              NaN  \n",
       "2016-03-02 22:27:01             10.0  \n",
       "2016-03-02 09:50:23              NaN  "
      ]
     },
     "execution_count": 3,
     "metadata": {},
     "output_type": "execute_result"
    }
   ],
   "source": [
    "data.head()"
   ]
  },
  {
   "cell_type": "markdown",
   "metadata": {},
   "source": [
    "# Overall clickthrough rate"
   ]
  },
  {
   "cell_type": "code",
   "execution_count": 4,
   "metadata": {},
   "outputs": [
    {
     "name": "stderr",
     "output_type": "stream",
     "text": [
      "C:\\Users\\miguel.mossa\\AppData\\Local\\Continuum\\anaconda3\\lib\\site-packages\\ipykernel_launcher.py:1: FutureWarning: pd.TimeGrouper is deprecated and will be removed; Please use pd.Grouper(freq=...)\n",
      "  \"\"\"Entry point for launching an IPython kernel.\n",
      "C:\\Users\\miguel.mossa\\AppData\\Local\\Continuum\\anaconda3\\lib\\site-packages\\ipykernel_launcher.py:3: FutureWarning: pd.TimeGrouper is deprecated and will be removed; Please use pd.Grouper(freq=...)\n",
      "  This is separate from the ipykernel package so we can avoid doing imports until\n"
     ]
    },
    {
     "data": {
      "text/plain": [
       "timestamp\n",
       "2016-03-01    0.362142\n",
       "2016-03-02    0.354037\n",
       "2016-03-03    0.343129\n",
       "2016-03-04    0.257511\n",
       "2016-03-05    0.251666\n",
       "2016-03-06    0.257186\n",
       "2016-03-07    0.247962\n",
       "2016-03-08    0.251457\n",
       "Freq: D, dtype: float64"
      ]
     },
     "execution_count": 4,
     "metadata": {},
     "output_type": "execute_result"
    }
   ],
   "source": [
    "CT_x_Day  = data.groupby([pd.TimeGrouper('D')]).apply(lambda row: \n",
    "                                  len(row[row['action'] == 'visitPage']))\n",
    "Searches_x_Day = data.groupby([pd.TimeGrouper('D')]).apply(lambda row: \n",
    "                                  len(row[row['action'] == 'searchResultPage']))\n",
    "Daily_avg = CT_x_Day / Searches_x_Day\n",
    "\n",
    "Daily_avg"
   ]
  },
  {
   "cell_type": "code",
   "execution_count": 5,
   "metadata": {},
   "outputs": [
    {
     "name": "stderr",
     "output_type": "stream",
     "text": [
      "C:\\Users\\miguel.mossa\\AppData\\Local\\Continuum\\anaconda3\\lib\\site-packages\\ipykernel_launcher.py:1: FutureWarning: pd.TimeGrouper is deprecated and will be removed; Please use pd.Grouper(freq=...)\n",
      "  \"\"\"Entry point for launching an IPython kernel.\n",
      "C:\\Users\\miguel.mossa\\AppData\\Local\\Continuum\\anaconda3\\lib\\site-packages\\ipykernel_launcher.py:3: FutureWarning: pd.TimeGrouper is deprecated and will be removed; Please use pd.Grouper(freq=...)\n",
      "  This is separate from the ipykernel package so we can avoid doing imports until\n"
     ]
    },
    {
     "data": {
      "text/plain": [
       "timestamp   group\n",
       "2016-03-01  a        0.470911\n",
       "            b        0.125863\n",
       "2016-03-02  a        0.449088\n",
       "            b        0.133497\n",
       "2016-03-03  a        0.434864\n",
       "            b        0.135907\n",
       "2016-03-04  a        0.299257\n",
       "            b        0.169797\n",
       "2016-03-05  a        0.291802\n",
       "            b        0.176394\n",
       "2016-03-06  a        0.306368\n",
       "            b        0.166634\n",
       "2016-03-07  a        0.284274\n",
       "            b        0.174905\n",
       "2016-03-08  a        0.295957\n",
       "            b        0.161410\n",
       "dtype: float64"
      ]
     },
     "execution_count": 5,
     "metadata": {},
     "output_type": "execute_result"
    }
   ],
   "source": [
    "CT_x_Day_group  = data.groupby([pd.TimeGrouper('D'),'group']).apply(lambda row: \n",
    "                                  len(row[row['action'] == 'visitPage']))\n",
    "Searches_x_Day_group = data.groupby([pd.TimeGrouper('D'),'group']).apply(lambda row: \n",
    "                                  len(row[row['action'] == 'searchResultPage']))\n",
    "Daily_avg_group = CT_x_Day_group / Searches_x_Day_group\n",
    "\n",
    "Daily_avg_group"
   ]
  },
  {
   "cell_type": "markdown",
   "metadata": {},
   "source": [
    "# Which Results Do Clients Click First?"
   ]
  },
  {
   "cell_type": "markdown",
   "metadata": {},
   "source": [
    "In order to figure out which links clients click first we have get the number of search result pages that were clicked on and group by day, session_id and result_positon."
   ]
  },
  {
   "cell_type": "code",
   "execution_count": 6,
   "metadata": {},
   "outputs": [
    {
     "name": "stderr",
     "output_type": "stream",
     "text": [
      "C:\\Users\\miguel.mossa\\AppData\\Local\\Continuum\\anaconda3\\lib\\site-packages\\ipykernel_launcher.py:3: FutureWarning: pd.TimeGrouper is deprecated and will be removed; Please use pd.Grouper(freq=...)\n",
      "  This is separate from the ipykernel package so we can avoid doing imports until\n"
     ]
    },
    {
     "data": {
      "text/plain": [
       "timestamp   session_id      \n",
       "2016-03-01  001e2d0e159172d2    2.0\n",
       "            0024c4506bf92e1c    1.0\n",
       "            0029420a5f8c7d90    1.0\n",
       "            002b97995ca9ce77    3.0\n",
       "            003037c8d3c3fe94    2.0\n",
       "Name: result_position, dtype: float64"
      ]
     },
     "execution_count": 6,
     "metadata": {},
     "output_type": "execute_result"
    }
   ],
   "source": [
    "#select visits, sort by timestamp and group by the day and session_id and take the first result in the column corresponding to the result_position column\n",
    "\n",
    "First_Click = data[data.action == 'visitPage'].sort_index().groupby([pd.TimeGrouper('D'),'session_id',], sort=True)['result_position']\\\n",
    "                             .first()\n",
    "First_Click.head()"
   ]
  },
  {
   "cell_type": "code",
   "execution_count": 7,
   "metadata": {},
   "outputs": [],
   "source": [
    "First_click_by_day =pd.DataFrame(First_Click).reset_index().groupby(['timestamp','result_position']).apply(lambda row: \n",
    "                                  len(row))"
   ]
  },
  {
   "cell_type": "code",
   "execution_count": 8,
   "metadata": {},
   "outputs": [
    {
     "data": {
      "text/plain": [
       "timestamp   result_position\n",
       "2016-03-01  1.0                2383\n",
       "            2.0                 506\n",
       "            3.0                 223\n",
       "            4.0                 114\n",
       "            5.0                  85\n",
       "            6.0                  42\n",
       "            7.0                  34\n",
       "            8.0                  18\n",
       "            9.0                  17\n",
       "            10.0                 19\n",
       "2016-03-02  1.0                2396\n",
       "            2.0                 486\n",
       "            3.0                 274\n",
       "            4.0                 137\n",
       "            5.0                  70\n",
       "            6.0                  57\n",
       "            7.0                  32\n",
       "            8.0                  34\n",
       "            9.0                  25\n",
       "            10.0                 10\n",
       "2016-03-03  1.0                2422\n",
       "            2.0                 485\n",
       "            3.0                 258\n",
       "            4.0                 123\n",
       "            5.0                  80\n",
       "            6.0                  59\n",
       "            7.0                  42\n",
       "            8.0                  21\n",
       "            9.0                  24\n",
       "            10.0                 25\n",
       "                               ... \n",
       "2016-03-06  1.0                1977\n",
       "            2.0                 400\n",
       "            3.0                 214\n",
       "            4.0                 123\n",
       "            5.0                  62\n",
       "            6.0                  47\n",
       "            7.0                  29\n",
       "            8.0                  18\n",
       "            9.0                  14\n",
       "            10.0                 14\n",
       "2016-03-07  1.0                2474\n",
       "            2.0                 500\n",
       "            3.0                 271\n",
       "            4.0                 145\n",
       "            5.0                  86\n",
       "            6.0                  61\n",
       "            7.0                  48\n",
       "            8.0                  28\n",
       "            9.0                  12\n",
       "            10.0                 20\n",
       "2016-03-08  1.0                2114\n",
       "            2.0                 414\n",
       "            3.0                 202\n",
       "            4.0                 100\n",
       "            5.0                  76\n",
       "            6.0                  65\n",
       "            7.0                  31\n",
       "            8.0                  22\n",
       "            9.0                  15\n",
       "            10.0                 13\n",
       "Length: 80, dtype: int64"
      ]
     },
     "execution_count": 8,
     "metadata": {},
     "output_type": "execute_result"
    }
   ],
   "source": [
    "First_click_by_day.groupby(['timestamp']).head(10)"
   ]
  },
  {
   "cell_type": "markdown",
   "metadata": {},
   "source": [
    "# What Are The Daily Average Zero Results Rate?"
   ]
  },
  {
   "cell_type": "code",
   "execution_count": 9,
   "metadata": {},
   "outputs": [
    {
     "name": "stderr",
     "output_type": "stream",
     "text": [
      "C:\\Users\\miguel.mossa\\AppData\\Local\\Continuum\\anaconda3\\lib\\site-packages\\ipykernel_launcher.py:1: FutureWarning: pd.TimeGrouper is deprecated and will be removed; Please use pd.Grouper(freq=...)\n",
      "  \"\"\"Entry point for launching an IPython kernel.\n"
     ]
    },
    {
     "data": {
      "text/plain": [
       "timestamp\n",
       "2016-03-01    0.187602\n",
       "2016-03-02    0.189874\n",
       "2016-03-03    0.179707\n",
       "2016-03-04    0.180810\n",
       "2016-03-05    0.184944\n",
       "2016-03-06    0.176157\n",
       "2016-03-07    0.182000\n",
       "2016-03-08    0.193717\n",
       "Freq: D, dtype: float64"
      ]
     },
     "execution_count": 9,
     "metadata": {},
     "output_type": "execute_result"
    }
   ],
   "source": [
    "zero_res = data.groupby([pd.TimeGrouper('D')]).apply(lambda row: \n",
    "                                                   len(row[row['n_results'] == 0]))\n",
    "    \n",
    "proportion_zeros = zero_res / Searches_x_Day\n",
    "proportion_zeros"
   ]
  },
  {
   "cell_type": "code",
   "execution_count": 10,
   "metadata": {},
   "outputs": [
    {
     "name": "stderr",
     "output_type": "stream",
     "text": [
      "C:\\Users\\miguel.mossa\\AppData\\Local\\Continuum\\anaconda3\\lib\\site-packages\\ipykernel_launcher.py:1: FutureWarning: pd.TimeGrouper is deprecated and will be removed; Please use pd.Grouper(freq=...)\n",
      "  \"\"\"Entry point for launching an IPython kernel.\n"
     ]
    },
    {
     "data": {
      "text/plain": [
       "timestamp   group\n",
       "2016-03-01  a        0.186775\n",
       "            b        0.189399\n",
       "2016-03-02  a        0.191082\n",
       "            b        0.187072\n",
       "2016-03-03  a        0.178539\n",
       "            b        0.182344\n",
       "2016-03-04  a        0.183041\n",
       "            b        0.176121\n",
       "2016-03-05  a        0.178240\n",
       "            b        0.197517\n",
       "2016-03-06  a        0.168867\n",
       "            b        0.189578\n",
       "2016-03-07  a        0.182377\n",
       "            b        0.181242\n",
       "2016-03-08  a        0.196113\n",
       "            b        0.188868\n",
       "dtype: float64"
      ]
     },
     "execution_count": 10,
     "metadata": {},
     "output_type": "execute_result"
    }
   ],
   "source": [
    "zero_res_groups = data.groupby([pd.TimeGrouper('D'),'group']).apply(lambda row: \n",
    "                                                   len(row[row['n_results'] == 0]))\n",
    "    \n",
    "proportion_zeros_group = zero_res_groups / Searches_x_Day_group\n",
    "proportion_zeros_group"
   ]
  },
  {
   "cell_type": "code",
   "execution_count": null,
   "metadata": {},
   "outputs": [],
   "source": []
  }
 ],
 "metadata": {
  "kernelspec": {
   "display_name": "Python 3",
   "language": "python",
   "name": "python3"
  },
  "language_info": {
   "codemirror_mode": {
    "name": "ipython",
    "version": 3
   },
   "file_extension": ".py",
   "mimetype": "text/x-python",
   "name": "python",
   "nbconvert_exporter": "python",
   "pygments_lexer": "ipython3",
   "version": "3.7.1"
  }
 },
 "nbformat": 4,
 "nbformat_minor": 2
}
