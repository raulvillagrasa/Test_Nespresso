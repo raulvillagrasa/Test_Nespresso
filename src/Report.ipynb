{
 "cells": [
  {
   "cell_type": "markdown",
   "metadata": {},
   "source": [
    "# Libraries"
   ]
  },
  {
   "cell_type": "code",
   "execution_count": 1,
   "metadata": {},
   "outputs": [],
   "source": [
    "import pandas as pd\n",
    "import os\n",
    "import datetime\n",
    "import warnings\n",
    "import numpy as np\n",
    "import matplotlib.pyplot as plt"
   ]
  },
  {
   "cell_type": "markdown",
   "metadata": {},
   "source": [
    "# Read Data\n",
    "\n",
    "First we read and load some basic libraries and functions that we need. \n",
    "\n",
    "As the timestamp variable presented some issues of formating that would be a trouble in the future, we first read the timestamp in the data normally and then change it to integer, afterwards re-write and finally read it as timestamp."
   ]
  },
  {
   "cell_type": "code",
   "execution_count": 2,
   "metadata": {},
   "outputs": [],
   "source": [
    "#ignore pandas warnings\n",
    "warnings.filterwarnings('ignore')\n",
    "\n",
    "#filename\n",
    "file_name=\"events_log.csv.gz\"\n",
    "\n",
    "#path file\n",
    "data_path = os.path.join(\"../data/\")\n",
    "data_path_file = data_path + file_name\n",
    "\n",
    "#read and write to transform integer timestamp in the correct format\n",
    "data = pd.read_csv(data_path_file, compression='gzip',dtype={'timestamp': 'Int64'})\n",
    "data.to_csv(data_path+'new_events_log.csv')\n",
    "data = pd.read_csv(data_path+\"new_events_log.csv\",\n",
    "                     parse_dates=['timestamp'], \n",
    "                     index_col='timestamp')   \n",
    "# drop extra column\n",
    "data = data.drop('Unnamed: 0',axis=1)"
   ]
  },
  {
   "cell_type": "code",
   "execution_count": 3,
   "metadata": {},
   "outputs": [
    {
     "data": {
      "text/html": [
       "<div>\n",
       "<style scoped>\n",
       "    .dataframe tbody tr th:only-of-type {\n",
       "        vertical-align: middle;\n",
       "    }\n",
       "\n",
       "    .dataframe tbody tr th {\n",
       "        vertical-align: top;\n",
       "    }\n",
       "\n",
       "    .dataframe thead th {\n",
       "        text-align: right;\n",
       "    }\n",
       "</style>\n",
       "<table border=\"1\" class=\"dataframe\">\n",
       "  <thead>\n",
       "    <tr style=\"text-align: right;\">\n",
       "      <th></th>\n",
       "      <th>uuid</th>\n",
       "      <th>session_id</th>\n",
       "      <th>group</th>\n",
       "      <th>action</th>\n",
       "      <th>checkin</th>\n",
       "      <th>page_id</th>\n",
       "      <th>n_results</th>\n",
       "      <th>result_position</th>\n",
       "    </tr>\n",
       "    <tr>\n",
       "      <th>timestamp</th>\n",
       "      <th></th>\n",
       "      <th></th>\n",
       "      <th></th>\n",
       "      <th></th>\n",
       "      <th></th>\n",
       "      <th></th>\n",
       "      <th></th>\n",
       "      <th></th>\n",
       "    </tr>\n",
       "  </thead>\n",
       "  <tbody>\n",
       "    <tr>\n",
       "      <th>2016-03-01 10:38:42</th>\n",
       "      <td>00000736167c507e8ec225bd9e71f9e5</td>\n",
       "      <td>78245c2c3fba013a</td>\n",
       "      <td>b</td>\n",
       "      <td>searchResultPage</td>\n",
       "      <td>NaN</td>\n",
       "      <td>cbeb66d1bc1f1bc2</td>\n",
       "      <td>5.0</td>\n",
       "      <td>NaN</td>\n",
       "    </tr>\n",
       "    <tr>\n",
       "      <th>2016-03-07 00:52:26</th>\n",
       "      <td>00000c69fe345268935463abbfa5d5b3</td>\n",
       "      <td>c559c3be98dca8a4</td>\n",
       "      <td>a</td>\n",
       "      <td>searchResultPage</td>\n",
       "      <td>NaN</td>\n",
       "      <td>eb658e8722aad674</td>\n",
       "      <td>10.0</td>\n",
       "      <td>NaN</td>\n",
       "    </tr>\n",
       "    <tr>\n",
       "      <th>2016-03-02 14:53:05</th>\n",
       "      <td>00003bfdab715ee59077a3670331b787</td>\n",
       "      <td>760bf89817ce4b08</td>\n",
       "      <td>a</td>\n",
       "      <td>checkin</td>\n",
       "      <td>30.0</td>\n",
       "      <td>f99a9fc1f7fdd21e</td>\n",
       "      <td>NaN</td>\n",
       "      <td>NaN</td>\n",
       "    </tr>\n",
       "    <tr>\n",
       "      <th>2016-03-02 22:27:01</th>\n",
       "      <td>0000465cd7c35ad2bdeafec953e08c1a</td>\n",
       "      <td>fb905603d31b2071</td>\n",
       "      <td>a</td>\n",
       "      <td>checkin</td>\n",
       "      <td>60.0</td>\n",
       "      <td>e5626962a6939a75</td>\n",
       "      <td>NaN</td>\n",
       "      <td>10.0</td>\n",
       "    </tr>\n",
       "    <tr>\n",
       "      <th>2016-03-02 09:50:23</th>\n",
       "      <td>000050cbb4ef5b42b16c4d2cf69e6358</td>\n",
       "      <td>c2bf5e5172a892dc</td>\n",
       "      <td>a</td>\n",
       "      <td>checkin</td>\n",
       "      <td>30.0</td>\n",
       "      <td>787dd6a4c371cbf9</td>\n",
       "      <td>NaN</td>\n",
       "      <td>NaN</td>\n",
       "    </tr>\n",
       "  </tbody>\n",
       "</table>\n",
       "</div>"
      ],
      "text/plain": [
       "                                                 uuid        session_id group  \\\n",
       "timestamp                                                                       \n",
       "2016-03-01 10:38:42  00000736167c507e8ec225bd9e71f9e5  78245c2c3fba013a     b   \n",
       "2016-03-07 00:52:26  00000c69fe345268935463abbfa5d5b3  c559c3be98dca8a4     a   \n",
       "2016-03-02 14:53:05  00003bfdab715ee59077a3670331b787  760bf89817ce4b08     a   \n",
       "2016-03-02 22:27:01  0000465cd7c35ad2bdeafec953e08c1a  fb905603d31b2071     a   \n",
       "2016-03-02 09:50:23  000050cbb4ef5b42b16c4d2cf69e6358  c2bf5e5172a892dc     a   \n",
       "\n",
       "                               action  checkin           page_id  n_results  \\\n",
       "timestamp                                                                     \n",
       "2016-03-01 10:38:42  searchResultPage      NaN  cbeb66d1bc1f1bc2        5.0   \n",
       "2016-03-07 00:52:26  searchResultPage      NaN  eb658e8722aad674       10.0   \n",
       "2016-03-02 14:53:05           checkin     30.0  f99a9fc1f7fdd21e        NaN   \n",
       "2016-03-02 22:27:01           checkin     60.0  e5626962a6939a75        NaN   \n",
       "2016-03-02 09:50:23           checkin     30.0  787dd6a4c371cbf9        NaN   \n",
       "\n",
       "                     result_position  \n",
       "timestamp                             \n",
       "2016-03-01 10:38:42              NaN  \n",
       "2016-03-07 00:52:26              NaN  \n",
       "2016-03-02 14:53:05              NaN  \n",
       "2016-03-02 22:27:01             10.0  \n",
       "2016-03-02 09:50:23              NaN  "
      ]
     },
     "execution_count": 3,
     "metadata": {},
     "output_type": "execute_result"
    }
   ],
   "source": [
    "data.head()"
   ]
  },
  {
   "cell_type": "markdown",
   "metadata": {},
   "source": [
    "# Overall clickthrough rate\n",
    "\n",
    "The Clickthrough rate usually is used to \"somehow\" measure the user engagement (i say somehow because it helps understand engagement, although it is useless if you only see this kpi for trying to explain it, there are many factor to take into account like if they finally went to the end of the pipeline and bought the product or the why they click, if it was a mistake, if they were just curious, etc), by definition is the proportion of search sessions when the user clicks on one of the possible options. \n",
    "\n",
    "In order to understand the average clickthrough rate of the users, we use a groupby clause, moreover if we want to do on a day basis we use a gruopby day to finally count the number of search performed in that period of time. Then its just work of dividing these numbers to obtain the rate we want \"Daily_avg = CT_x_Day / Searches_x_Day\". "
   ]
  },
  {
   "cell_type": "code",
   "execution_count": 4,
   "metadata": {},
   "outputs": [
    {
     "data": {
      "text/plain": [
       "timestamp\n",
       "2016-03-01    0.362142\n",
       "2016-03-02    0.354037\n",
       "2016-03-03    0.343129\n",
       "2016-03-04    0.257511\n",
       "2016-03-05    0.251666\n",
       "2016-03-06    0.257186\n",
       "2016-03-07    0.247962\n",
       "2016-03-08    0.251457\n",
       "Freq: D, dtype: float64"
      ]
     },
     "execution_count": 4,
     "metadata": {},
     "output_type": "execute_result"
    }
   ],
   "source": [
    "CT_x_Day  = data.groupby([pd.TimeGrouper('D')]).apply(lambda row: \n",
    "                                  len(row[row['action'] == 'visitPage']))\n",
    "Searches_x_Day = data.groupby([pd.TimeGrouper('D')]).apply(lambda row: \n",
    "                                  len(row[row['action'] == 'searchResultPage']))\n",
    "Daily_avg = CT_x_Day / Searches_x_Day\n",
    "\n",
    "Daily_avg"
   ]
  },
  {
   "cell_type": "markdown",
   "metadata": {},
   "source": [
    "Here we can appreciate that it varies from 0.24 to 0.36 for the overall rate. now lets take a look to compare between the groups of the case:  "
   ]
  },
  {
   "cell_type": "code",
   "execution_count": 5,
   "metadata": {},
   "outputs": [
    {
     "data": {
      "text/plain": [
       "timestamp   group\n",
       "2016-03-01  a        0.470911\n",
       "            b        0.125863\n",
       "2016-03-02  a        0.449088\n",
       "            b        0.133497\n",
       "2016-03-03  a        0.434864\n",
       "            b        0.135907\n",
       "2016-03-04  a        0.299257\n",
       "            b        0.169797\n",
       "2016-03-05  a        0.291802\n",
       "            b        0.176394\n",
       "2016-03-06  a        0.306368\n",
       "            b        0.166634\n",
       "2016-03-07  a        0.284274\n",
       "            b        0.174905\n",
       "2016-03-08  a        0.295957\n",
       "            b        0.161410\n",
       "dtype: float64"
      ]
     },
     "execution_count": 5,
     "metadata": {},
     "output_type": "execute_result"
    }
   ],
   "source": [
    "CT_x_Day_group  = data.groupby([pd.TimeGrouper('D'),'group']).apply(lambda row: \n",
    "                                  len(row[row['action'] == 'visitPage']))\n",
    "Searches_x_Day_group = data.groupby([pd.TimeGrouper('D'),'group']).apply(lambda row: \n",
    "                                  len(row[row['action'] == 'searchResultPage']))\n",
    "Daily_avg_group = CT_x_Day_group / Searches_x_Day_group\n",
    "\n",
    "Daily_avg_group"
   ]
  },
  {
   "cell_type": "markdown",
   "metadata": {},
   "source": [
    "You can see and conclude that group \"a\" trend to have a much higher CTR number that group \"b\" members, on average more or less 0.35 for \"a\" members and 0.25 for \"b\" members.  "
   ]
  },
  {
   "cell_type": "markdown",
   "metadata": {},
   "source": [
    "# Which Results Do Clients Click First?"
   ]
  },
  {
   "cell_type": "markdown",
   "metadata": {},
   "source": [
    "We can tell which page has been visited by getting building \"result_position\" variable of the page that was visisted, we do this using the groupby by day, session_id and result position. (we are interest in values that exist, that means that the result must be grater than 0), then we print the headers to see how is going:  "
   ]
  },
  {
   "cell_type": "code",
   "execution_count": 6,
   "metadata": {},
   "outputs": [
    {
     "data": {
      "text/plain": [
       "timestamp   session_id      \n",
       "2016-03-01  001e2d0e159172d2    2.0\n",
       "            0024c4506bf92e1c    1.0\n",
       "            0029420a5f8c7d90    1.0\n",
       "            002b97995ca9ce77    3.0\n",
       "            003037c8d3c3fe94    2.0\n",
       "Name: result_position, dtype: float64"
      ]
     },
     "execution_count": 6,
     "metadata": {},
     "output_type": "execute_result"
    }
   ],
   "source": [
    "#select visits, sort by timestamp and group by the day and session_id and take the first result in the column corresponding to the result_position column\n",
    "\n",
    "First_Click = data[data.action == 'visitPage'].sort_index().groupby([pd.TimeGrouper('D'),'session_id',], sort=True)['result_position']\\\n",
    "                             .first()\n",
    "First_Click.head()"
   ]
  },
  {
   "cell_type": "markdown",
   "metadata": {},
   "source": [
    "Then we run the code over the number of days and count the result_positions of the pages that were first visited and order them by result_position. we sort the dataframe is in chronological order so we can tell that the result we get back is based by the first search (I hold only the first 10 result positions becasuse after that we see that the number is practically meaningless)"
   ]
  },
  {
   "cell_type": "code",
   "execution_count": 7,
   "metadata": {},
   "outputs": [],
   "source": [
    "First_click_by_day =pd.DataFrame(First_Click).reset_index().groupby(['timestamp','result_position']).apply(lambda row: \n",
    "                                  len(row))"
   ]
  },
  {
   "cell_type": "code",
   "execution_count": 8,
   "metadata": {},
   "outputs": [
    {
     "data": {
      "text/plain": [
       "timestamp   result_position\n",
       "2016-03-01  1.0                2383\n",
       "            2.0                 506\n",
       "            3.0                 223\n",
       "            4.0                 114\n",
       "            5.0                  85\n",
       "            6.0                  42\n",
       "            7.0                  34\n",
       "            8.0                  18\n",
       "            9.0                  17\n",
       "            10.0                 19\n",
       "2016-03-02  1.0                2396\n",
       "            2.0                 486\n",
       "            3.0                 274\n",
       "            4.0                 137\n",
       "            5.0                  70\n",
       "            6.0                  57\n",
       "            7.0                  32\n",
       "            8.0                  34\n",
       "            9.0                  25\n",
       "            10.0                 10\n",
       "2016-03-03  1.0                2422\n",
       "            2.0                 485\n",
       "            3.0                 258\n",
       "            4.0                 123\n",
       "            5.0                  80\n",
       "            6.0                  59\n",
       "            7.0                  42\n",
       "            8.0                  21\n",
       "            9.0                  24\n",
       "            10.0                 25\n",
       "                               ... \n",
       "2016-03-06  1.0                1977\n",
       "            2.0                 400\n",
       "            3.0                 214\n",
       "            4.0                 123\n",
       "            5.0                  62\n",
       "            6.0                  47\n",
       "            7.0                  29\n",
       "            8.0                  18\n",
       "            9.0                  14\n",
       "            10.0                 14\n",
       "2016-03-07  1.0                2474\n",
       "            2.0                 500\n",
       "            3.0                 271\n",
       "            4.0                 145\n",
       "            5.0                  86\n",
       "            6.0                  61\n",
       "            7.0                  48\n",
       "            8.0                  28\n",
       "            9.0                  12\n",
       "            10.0                 20\n",
       "2016-03-08  1.0                2114\n",
       "            2.0                 414\n",
       "            3.0                 202\n",
       "            4.0                 100\n",
       "            5.0                  76\n",
       "            6.0                  65\n",
       "            7.0                  31\n",
       "            8.0                  22\n",
       "            9.0                  15\n",
       "            10.0                 13\n",
       "Length: 80, dtype: int64"
      ]
     },
     "execution_count": 8,
     "metadata": {},
     "output_type": "execute_result"
    }
   ],
   "source": [
    "First_click_by_day.groupby(['timestamp']).head(10)"
   ]
  },
  {
   "cell_type": "markdown",
   "metadata": {},
   "source": [
    "The first result position is the most popular, somehow it makes sense because (asusuming that usually the IT and crm team assign the marks in the web in order they will appear to customers and in order of relevance also, so you offer the most interesting and engaging webs first, then the second one ando so on...)\n",
    "\n",
    "Also you can see that the clicks have some kind of stationality, where it shows that most days the first search results get about 2300-2500 clicks, but it drops in click rate for the first search result occurs on the 5th day. We can also see the same pattern happens for the clickrate for the second result."
   ]
  },
  {
   "cell_type": "markdown",
   "metadata": {},
   "source": [
    "# What Are The Daily Average Zero Results Rate?\n",
    "\n",
    "First we keep only the day of our date, and because we are only interested this time in the zeros we just study where  'n_results'=0 and divide by the number of searches, this should give us the the zero rate for each day.\n"
   ]
  },
  {
   "cell_type": "code",
   "execution_count": 9,
   "metadata": {},
   "outputs": [
    {
     "data": {
      "text/plain": [
       "timestamp\n",
       "2016-03-01    0.187602\n",
       "2016-03-02    0.189874\n",
       "2016-03-03    0.179707\n",
       "2016-03-04    0.180810\n",
       "2016-03-05    0.184944\n",
       "2016-03-06    0.176157\n",
       "2016-03-07    0.182000\n",
       "2016-03-08    0.193717\n",
       "Freq: D, dtype: float64"
      ]
     },
     "execution_count": 9,
     "metadata": {},
     "output_type": "execute_result"
    }
   ],
   "source": [
    "zero_res = data.groupby([pd.TimeGrouper('D')]).apply(lambda row: \n",
    "                                                   len(row[row['n_results'] == 0]))\n",
    "    \n",
    "proportion_zeros = zero_res / Searches_x_Day\n",
    "proportion_zeros"
   ]
  },
  {
   "cell_type": "markdown",
   "metadata": {},
   "source": [
    "Then we create \"zero_res_groups\" which is made the same way as above, but also group by the 'group', that is telling me if the session is in 'group a' or in 'group b' and we use the previous results to see that:  "
   ]
  },
  {
   "cell_type": "code",
   "execution_count": 10,
   "metadata": {},
   "outputs": [
    {
     "data": {
      "text/plain": [
       "timestamp   group\n",
       "2016-03-01  a        0.273963\n",
       "            b        0.595131\n",
       "2016-03-02  a        0.271709\n",
       "            b        0.630423\n",
       "2016-03-03  a        0.259262\n",
       "            b        0.585644\n",
       "2016-03-04  a        0.266861\n",
       "            b        0.560722\n",
       "2016-03-05  a        0.283558\n",
       "            b        0.531794\n",
       "2016-03-06  a        0.271834\n",
       "            b        0.500486\n",
       "2016-03-07  a        0.272462\n",
       "            b        0.548162\n",
       "2016-03-08  a        0.289447\n",
       "            b        0.585714\n",
       "dtype: float64"
      ]
     },
     "execution_count": 10,
     "metadata": {},
     "output_type": "execute_result"
    }
   ],
   "source": [
    "zero_res_groups = data.groupby([pd.TimeGrouper('D')]).apply(lambda row: \n",
    "                                                   len(row[row['n_results'] == 0]))\n",
    "    \n",
    "proportion_zeros_group = zero_res_groups / Searches_x_Day_group\n",
    "proportion_zeros_group"
   ]
  },
  {
   "cell_type": "markdown",
   "metadata": {},
   "source": [
    "The average zero rate is almost the double in group b than group a. "
   ]
  },
  {
   "cell_type": "markdown",
   "metadata": {},
   "source": [
    "# What Factors Affect User Session Length?"
   ]
  },
  {
   "cell_type": "markdown",
   "metadata": {},
   "source": [
    "First we take the initial session"
   ]
  },
  {
   "cell_type": "code",
   "execution_count": 11,
   "metadata": {},
   "outputs": [],
   "source": [
    "start_session = data.sort_index()\\\n",
    "                  .groupby(['session_id'], sort=True, as_index=False)\\\n",
    "                  .nth(0)"
   ]
  },
  {
   "cell_type": "code",
   "execution_count": 12,
   "metadata": {},
   "outputs": [
    {
     "data": {
      "text/html": [
       "<div>\n",
       "<style scoped>\n",
       "    .dataframe tbody tr th:only-of-type {\n",
       "        vertical-align: middle;\n",
       "    }\n",
       "\n",
       "    .dataframe tbody tr th {\n",
       "        vertical-align: top;\n",
       "    }\n",
       "\n",
       "    .dataframe thead th {\n",
       "        text-align: right;\n",
       "    }\n",
       "</style>\n",
       "<table border=\"1\" class=\"dataframe\">\n",
       "  <thead>\n",
       "    <tr style=\"text-align: right;\">\n",
       "      <th></th>\n",
       "      <th>uuid</th>\n",
       "      <th>session_id</th>\n",
       "      <th>group</th>\n",
       "      <th>action</th>\n",
       "      <th>checkin</th>\n",
       "      <th>page_id</th>\n",
       "      <th>n_results</th>\n",
       "      <th>result_position</th>\n",
       "    </tr>\n",
       "    <tr>\n",
       "      <th>timestamp</th>\n",
       "      <th></th>\n",
       "      <th></th>\n",
       "      <th></th>\n",
       "      <th></th>\n",
       "      <th></th>\n",
       "      <th></th>\n",
       "      <th></th>\n",
       "      <th></th>\n",
       "    </tr>\n",
       "  </thead>\n",
       "  <tbody>\n",
       "    <tr>\n",
       "      <th>2016-03-01 00:00:01</th>\n",
       "      <td>d6b87ce39b195ca0a5adecc48aaa6276</td>\n",
       "      <td>cbba9a98ba7b20cc</td>\n",
       "      <td>a</td>\n",
       "      <td>checkin</td>\n",
       "      <td>60.0</td>\n",
       "      <td>f79f531304a265f8</td>\n",
       "      <td>NaN</td>\n",
       "      <td>4.0</td>\n",
       "    </tr>\n",
       "    <tr>\n",
       "      <th>2016-03-01 00:00:02</th>\n",
       "      <td>976a1ff3925a516aba858b8ad20cb9f9</td>\n",
       "      <td>c1f0f8499c6655cd</td>\n",
       "      <td>b</td>\n",
       "      <td>checkin</td>\n",
       "      <td>20.0</td>\n",
       "      <td>88bebe600b777ea9</td>\n",
       "      <td>NaN</td>\n",
       "      <td>NaN</td>\n",
       "    </tr>\n",
       "    <tr>\n",
       "      <th>2016-03-01 00:00:02</th>\n",
       "      <td>2e71e942d17f5999a0e33d2b66b88520</td>\n",
       "      <td>614eaa17120fe46b</td>\n",
       "      <td>b</td>\n",
       "      <td>checkin</td>\n",
       "      <td>40.0</td>\n",
       "      <td>756d326815bc60c9</td>\n",
       "      <td>NaN</td>\n",
       "      <td>1.0</td>\n",
       "    </tr>\n",
       "    <tr>\n",
       "      <th>2016-03-01 00:00:05</th>\n",
       "      <td>3373b4f03236565e8e36c35388831c8a</td>\n",
       "      <td>32edcb654a1dee57</td>\n",
       "      <td>b</td>\n",
       "      <td>checkin</td>\n",
       "      <td>150.0</td>\n",
       "      <td>d6122cfa99f1809f</td>\n",
       "      <td>NaN</td>\n",
       "      <td>1.0</td>\n",
       "    </tr>\n",
       "    <tr>\n",
       "      <th>2016-03-01 00:00:06</th>\n",
       "      <td>f7c40cd7e0f251a78657c5c08ea585e6</td>\n",
       "      <td>34ba1f4ed8fa8368</td>\n",
       "      <td>b</td>\n",
       "      <td>checkin</td>\n",
       "      <td>90.0</td>\n",
       "      <td>b7502d32b09f32bb</td>\n",
       "      <td>NaN</td>\n",
       "      <td>NaN</td>\n",
       "    </tr>\n",
       "  </tbody>\n",
       "</table>\n",
       "</div>"
      ],
      "text/plain": [
       "                                                 uuid        session_id group  \\\n",
       "timestamp                                                                       \n",
       "2016-03-01 00:00:01  d6b87ce39b195ca0a5adecc48aaa6276  cbba9a98ba7b20cc     a   \n",
       "2016-03-01 00:00:02  976a1ff3925a516aba858b8ad20cb9f9  c1f0f8499c6655cd     b   \n",
       "2016-03-01 00:00:02  2e71e942d17f5999a0e33d2b66b88520  614eaa17120fe46b     b   \n",
       "2016-03-01 00:00:05  3373b4f03236565e8e36c35388831c8a  32edcb654a1dee57     b   \n",
       "2016-03-01 00:00:06  f7c40cd7e0f251a78657c5c08ea585e6  34ba1f4ed8fa8368     b   \n",
       "\n",
       "                      action  checkin           page_id  n_results  \\\n",
       "timestamp                                                            \n",
       "2016-03-01 00:00:01  checkin     60.0  f79f531304a265f8        NaN   \n",
       "2016-03-01 00:00:02  checkin     20.0  88bebe600b777ea9        NaN   \n",
       "2016-03-01 00:00:02  checkin     40.0  756d326815bc60c9        NaN   \n",
       "2016-03-01 00:00:05  checkin    150.0  d6122cfa99f1809f        NaN   \n",
       "2016-03-01 00:00:06  checkin     90.0  b7502d32b09f32bb        NaN   \n",
       "\n",
       "                     result_position  \n",
       "timestamp                             \n",
       "2016-03-01 00:00:01              4.0  \n",
       "2016-03-01 00:00:02              NaN  \n",
       "2016-03-01 00:00:02              1.0  \n",
       "2016-03-01 00:00:05              1.0  \n",
       "2016-03-01 00:00:06              NaN  "
      ]
     },
     "execution_count": 12,
     "metadata": {},
     "output_type": "execute_result"
    }
   ],
   "source": [
    "start_session.head()"
   ]
  },
  {
   "cell_type": "markdown",
   "metadata": {},
   "source": [
    "Then, we calculate the last session"
   ]
  },
  {
   "cell_type": "code",
   "execution_count": 13,
   "metadata": {},
   "outputs": [],
   "source": [
    "end_session = data.groupby(['session_id'], sort=True,as_index=False)\\\n",
    "                .nth(-1)"
   ]
  },
  {
   "cell_type": "code",
   "execution_count": 14,
   "metadata": {},
   "outputs": [
    {
     "data": {
      "text/html": [
       "<div>\n",
       "<style scoped>\n",
       "    .dataframe tbody tr th:only-of-type {\n",
       "        vertical-align: middle;\n",
       "    }\n",
       "\n",
       "    .dataframe tbody tr th {\n",
       "        vertical-align: top;\n",
       "    }\n",
       "\n",
       "    .dataframe thead th {\n",
       "        text-align: right;\n",
       "    }\n",
       "</style>\n",
       "<table border=\"1\" class=\"dataframe\">\n",
       "  <thead>\n",
       "    <tr style=\"text-align: right;\">\n",
       "      <th></th>\n",
       "      <th>uuid</th>\n",
       "      <th>session_id</th>\n",
       "      <th>group</th>\n",
       "      <th>action</th>\n",
       "      <th>checkin</th>\n",
       "      <th>page_id</th>\n",
       "      <th>n_results</th>\n",
       "      <th>result_position</th>\n",
       "    </tr>\n",
       "    <tr>\n",
       "      <th>timestamp</th>\n",
       "      <th></th>\n",
       "      <th></th>\n",
       "      <th></th>\n",
       "      <th></th>\n",
       "      <th></th>\n",
       "      <th></th>\n",
       "      <th></th>\n",
       "      <th></th>\n",
       "    </tr>\n",
       "  </thead>\n",
       "  <tbody>\n",
       "    <tr>\n",
       "      <th>2016-03-02 01:28:45</th>\n",
       "      <td>000104fe220a5675a270420cd6d4d4ac</td>\n",
       "      <td>485eabe5374f09e4</td>\n",
       "      <td>b</td>\n",
       "      <td>searchResultPage</td>\n",
       "      <td>NaN</td>\n",
       "      <td>4da9a64232ce947b</td>\n",
       "      <td>15.0</td>\n",
       "      <td>NaN</td>\n",
       "    </tr>\n",
       "    <tr>\n",
       "      <th>2016-03-01 14:41:32</th>\n",
       "      <td>0002eb91753d5a45b3fee8d4bda5e9c3</td>\n",
       "      <td>c2ff54ef26c5f5a2</td>\n",
       "      <td>b</td>\n",
       "      <td>searchResultPage</td>\n",
       "      <td>NaN</td>\n",
       "      <td>40661413f4467994</td>\n",
       "      <td>10.0</td>\n",
       "      <td>NaN</td>\n",
       "    </tr>\n",
       "    <tr>\n",
       "      <th>2016-03-04 00:56:24</th>\n",
       "      <td>00055f9db0095e33a27c405a460e2938</td>\n",
       "      <td>4ca63ff30146a5bd</td>\n",
       "      <td>b</td>\n",
       "      <td>searchResultPage</td>\n",
       "      <td>NaN</td>\n",
       "      <td>fc1c434d8de2a692</td>\n",
       "      <td>0.0</td>\n",
       "      <td>NaN</td>\n",
       "    </tr>\n",
       "    <tr>\n",
       "      <th>2016-03-03 21:14:18</th>\n",
       "      <td>00086710a60057c6b30d95a6c49df9c4</td>\n",
       "      <td>94b61e1ca6eaf62a</td>\n",
       "      <td>b</td>\n",
       "      <td>searchResultPage</td>\n",
       "      <td>NaN</td>\n",
       "      <td>131391e370c8f07a</td>\n",
       "      <td>4.0</td>\n",
       "      <td>NaN</td>\n",
       "    </tr>\n",
       "    <tr>\n",
       "      <th>2016-03-06 19:52:50</th>\n",
       "      <td>0009cf4511fd52ab81a3f5c49a0f61dd</td>\n",
       "      <td>85ffaf044d053d54</td>\n",
       "      <td>b</td>\n",
       "      <td>searchResultPage</td>\n",
       "      <td>NaN</td>\n",
       "      <td>ee21bb97d7f6e768</td>\n",
       "      <td>0.0</td>\n",
       "      <td>NaN</td>\n",
       "    </tr>\n",
       "  </tbody>\n",
       "</table>\n",
       "</div>"
      ],
      "text/plain": [
       "                                                 uuid        session_id group  \\\n",
       "timestamp                                                                       \n",
       "2016-03-02 01:28:45  000104fe220a5675a270420cd6d4d4ac  485eabe5374f09e4     b   \n",
       "2016-03-01 14:41:32  0002eb91753d5a45b3fee8d4bda5e9c3  c2ff54ef26c5f5a2     b   \n",
       "2016-03-04 00:56:24  00055f9db0095e33a27c405a460e2938  4ca63ff30146a5bd     b   \n",
       "2016-03-03 21:14:18  00086710a60057c6b30d95a6c49df9c4  94b61e1ca6eaf62a     b   \n",
       "2016-03-06 19:52:50  0009cf4511fd52ab81a3f5c49a0f61dd  85ffaf044d053d54     b   \n",
       "\n",
       "                               action  checkin           page_id  n_results  \\\n",
       "timestamp                                                                     \n",
       "2016-03-02 01:28:45  searchResultPage      NaN  4da9a64232ce947b       15.0   \n",
       "2016-03-01 14:41:32  searchResultPage      NaN  40661413f4467994       10.0   \n",
       "2016-03-04 00:56:24  searchResultPage      NaN  fc1c434d8de2a692        0.0   \n",
       "2016-03-03 21:14:18  searchResultPage      NaN  131391e370c8f07a        4.0   \n",
       "2016-03-06 19:52:50  searchResultPage      NaN  ee21bb97d7f6e768        0.0   \n",
       "\n",
       "                     result_position  \n",
       "timestamp                             \n",
       "2016-03-02 01:28:45              NaN  \n",
       "2016-03-01 14:41:32              NaN  \n",
       "2016-03-04 00:56:24              NaN  \n",
       "2016-03-03 21:14:18              NaN  \n",
       "2016-03-06 19:52:50              NaN  "
      ]
     },
     "execution_count": 14,
     "metadata": {},
     "output_type": "execute_result"
    }
   ],
   "source": [
    "end_session.head()"
   ]
  },
  {
   "cell_type": "markdown",
   "metadata": {},
   "source": [
    "Now, we create a new column in the start_session and end_session that strips the time from the index of the old dataframe"
   ]
  },
  {
   "cell_type": "code",
   "execution_count": 15,
   "metadata": {},
   "outputs": [],
   "source": [
    "start_session['time'] = start_session.index.to_pydatetime()\n",
    "start_session = start_session.reset_index()\n",
    "\n",
    "end_session['time'] = end_session.index.to_pydatetime()\n",
    "end_session = end_session.reset_index()"
   ]
  },
  {
   "cell_type": "markdown",
   "metadata": {},
   "source": [
    "Now, we can drop some useless columns such like: uuid,checkin, page_id and timestamp"
   ]
  },
  {
   "cell_type": "code",
   "execution_count": 16,
   "metadata": {},
   "outputs": [],
   "source": [
    "start_session = start_session.drop(['page_id','uuid','timestamp','checkin'],axis=1)\n",
    "end_session = end_session.drop(['page_id','uuid','timestamp','checkin'],axis=1)"
   ]
  },
  {
   "cell_type": "markdown",
   "metadata": {},
   "source": [
    "Then, we can merge both dataframes by session_id"
   ]
  },
  {
   "cell_type": "code",
   "execution_count": 17,
   "metadata": {},
   "outputs": [
    {
     "data": {
      "text/html": [
       "<div>\n",
       "<style scoped>\n",
       "    .dataframe tbody tr th:only-of-type {\n",
       "        vertical-align: middle;\n",
       "    }\n",
       "\n",
       "    .dataframe tbody tr th {\n",
       "        vertical-align: top;\n",
       "    }\n",
       "\n",
       "    .dataframe thead th {\n",
       "        text-align: right;\n",
       "    }\n",
       "</style>\n",
       "<table border=\"1\" class=\"dataframe\">\n",
       "  <thead>\n",
       "    <tr style=\"text-align: right;\">\n",
       "      <th></th>\n",
       "      <th>session_id</th>\n",
       "      <th>group_start</th>\n",
       "      <th>action_start</th>\n",
       "      <th>n_results_start</th>\n",
       "      <th>result_position_start</th>\n",
       "      <th>time_start</th>\n",
       "      <th>group_end</th>\n",
       "      <th>action_end</th>\n",
       "      <th>n_results_end</th>\n",
       "      <th>result_position_end</th>\n",
       "      <th>time_end</th>\n",
       "    </tr>\n",
       "  </thead>\n",
       "  <tbody>\n",
       "    <tr>\n",
       "      <th>0</th>\n",
       "      <td>cbba9a98ba7b20cc</td>\n",
       "      <td>a</td>\n",
       "      <td>checkin</td>\n",
       "      <td>NaN</td>\n",
       "      <td>4.0</td>\n",
       "      <td>2016-03-01 00:00:01</td>\n",
       "      <td>a</td>\n",
       "      <td>checkin</td>\n",
       "      <td>NaN</td>\n",
       "      <td>4.0</td>\n",
       "      <td>2016-03-01 00:00:01</td>\n",
       "    </tr>\n",
       "    <tr>\n",
       "      <th>1</th>\n",
       "      <td>c1f0f8499c6655cd</td>\n",
       "      <td>b</td>\n",
       "      <td>checkin</td>\n",
       "      <td>NaN</td>\n",
       "      <td>NaN</td>\n",
       "      <td>2016-03-01 00:00:02</td>\n",
       "      <td>b</td>\n",
       "      <td>checkin</td>\n",
       "      <td>NaN</td>\n",
       "      <td>NaN</td>\n",
       "      <td>2016-03-01 00:00:02</td>\n",
       "    </tr>\n",
       "    <tr>\n",
       "      <th>2</th>\n",
       "      <td>614eaa17120fe46b</td>\n",
       "      <td>b</td>\n",
       "      <td>checkin</td>\n",
       "      <td>NaN</td>\n",
       "      <td>1.0</td>\n",
       "      <td>2016-03-01 00:00:02</td>\n",
       "      <td>b</td>\n",
       "      <td>checkin</td>\n",
       "      <td>NaN</td>\n",
       "      <td>1.0</td>\n",
       "      <td>2016-03-01 00:00:22</td>\n",
       "    </tr>\n",
       "    <tr>\n",
       "      <th>3</th>\n",
       "      <td>32edcb654a1dee57</td>\n",
       "      <td>b</td>\n",
       "      <td>checkin</td>\n",
       "      <td>NaN</td>\n",
       "      <td>1.0</td>\n",
       "      <td>2016-03-01 00:00:05</td>\n",
       "      <td>b</td>\n",
       "      <td>checkin</td>\n",
       "      <td>NaN</td>\n",
       "      <td>1.0</td>\n",
       "      <td>2016-03-01 00:01:05</td>\n",
       "    </tr>\n",
       "    <tr>\n",
       "      <th>4</th>\n",
       "      <td>34ba1f4ed8fa8368</td>\n",
       "      <td>b</td>\n",
       "      <td>checkin</td>\n",
       "      <td>NaN</td>\n",
       "      <td>NaN</td>\n",
       "      <td>2016-03-01 00:00:06</td>\n",
       "      <td>b</td>\n",
       "      <td>checkin</td>\n",
       "      <td>NaN</td>\n",
       "      <td>NaN</td>\n",
       "      <td>2016-03-01 00:00:06</td>\n",
       "    </tr>\n",
       "  </tbody>\n",
       "</table>\n",
       "</div>"
      ],
      "text/plain": [
       "         session_id group_start action_start  n_results_start  \\\n",
       "0  cbba9a98ba7b20cc           a      checkin              NaN   \n",
       "1  c1f0f8499c6655cd           b      checkin              NaN   \n",
       "2  614eaa17120fe46b           b      checkin              NaN   \n",
       "3  32edcb654a1dee57           b      checkin              NaN   \n",
       "4  34ba1f4ed8fa8368           b      checkin              NaN   \n",
       "\n",
       "   result_position_start          time_start group_end action_end  \\\n",
       "0                    4.0 2016-03-01 00:00:01         a    checkin   \n",
       "1                    NaN 2016-03-01 00:00:02         b    checkin   \n",
       "2                    1.0 2016-03-01 00:00:02         b    checkin   \n",
       "3                    1.0 2016-03-01 00:00:05         b    checkin   \n",
       "4                    NaN 2016-03-01 00:00:06         b    checkin   \n",
       "\n",
       "   n_results_end  result_position_end            time_end  \n",
       "0            NaN                  4.0 2016-03-01 00:00:01  \n",
       "1            NaN                  NaN 2016-03-01 00:00:02  \n",
       "2            NaN                  1.0 2016-03-01 00:00:22  \n",
       "3            NaN                  1.0 2016-03-01 00:01:05  \n",
       "4            NaN                  NaN 2016-03-01 00:00:06  "
      ]
     },
     "execution_count": 17,
     "metadata": {},
     "output_type": "execute_result"
    }
   ],
   "source": [
    "data_merge = pd.merge(start_session, \n",
    "               end_session, \n",
    "               on='session_id',\n",
    "               suffixes=('_start','_end'))\n",
    "data_merge.head()"
   ]
  },
  {
   "cell_type": "markdown",
   "metadata": {},
   "source": [
    "Now, we can calculate the time difference between the start and end times (in seconds)"
   ]
  },
  {
   "cell_type": "code",
   "execution_count": 18,
   "metadata": {},
   "outputs": [],
   "source": [
    "session_length = data_merge['time_end'] - data_merge['time_start']\n",
    "session_length = session_length.apply(lambda row: row.seconds)"
   ]
  },
  {
   "cell_type": "markdown",
   "metadata": {},
   "source": [
    "Let´s plot the session_length in a histogram:"
   ]
  },
  {
   "cell_type": "code",
   "execution_count": 21,
   "metadata": {},
   "outputs": [
    {
     "data": {
      "image/png": "[encoded data removed]",
      "text/plain": [
       "<Figure size 432x288 with 1 Axes>"
      ]
     },
     "metadata": {
      "needs_background": "light"
     },
     "output_type": "display_data"
    }
   ],
   "source": [
    "bins = [0,10,20,50,80,100,120,160,200,220]\n",
    "plot_ses_len = plt.hist(session_length, bins=bins)"
   ]
  },
  {
   "cell_type": "markdown",
   "metadata": {},
   "source": [
    "From previuous graph we can observe that the majority of people spend either 10 seconds in a session. This means they probably are not finding what they want."
   ]
  },
  {
   "cell_type": "markdown",
   "metadata": {},
   "source": [
    "Now, we can split by \"group\" the session length and analyze it:"
   ]
  },
  {
   "cell_type": "code",
   "execution_count": 22,
   "metadata": {},
   "outputs": [],
   "source": [
    "data_merge['session_length'] = session_length\n",
    "session_length_by_group_a = data_merge[data_merge['group_start']=='a']['session_length'].value_counts()\n",
    "session_length_by_group_b = data_merge[data_merge['group_start']=='b']['session_length'].value_counts()"
   ]
  },
  {
   "cell_type": "markdown",
   "metadata": {},
   "source": [
    "First we plot group \"a\":"
   ]
  },
  {
   "cell_type": "code",
   "execution_count": 23,
   "metadata": {},
   "outputs": [
    {
     "data": {
      "image/png": "[encoded data removed]",
      "text/plain": [
       "<Figure size 432x288 with 1 Axes>"
      ]
     },
     "metadata": {
      "needs_background": "light"
     },
     "output_type": "display_data"
    }
   ],
   "source": [
    "plot_ses_len_a = plt.hist(session_length_by_group_a, bins=bins)"
   ]
  },
  {
   "cell_type": "markdown",
   "metadata": {},
   "source": [
    "Then we plot group \"b\""
   ]
  },
  {
   "cell_type": "code",
   "execution_count": 24,
   "metadata": {},
   "outputs": [
    {
     "data": {
      "image/png": "[encoded data removed]",
      "text/plain": [
       "<Figure size 432x288 with 1 Axes>"
      ]
     },
     "metadata": {
      "needs_background": "light"
     },
     "output_type": "display_data"
    }
   ],
   "source": [
    "plot_ses_len_b = plt.hist(session_length_by_group_b, bins=bins)"
   ]
  },
  {
   "cell_type": "markdown",
   "metadata": {},
   "source": [
    "From previuos graphs we can observe that the weights of the numbers are very different between the two groups but the distributions are hardly the same. Let's take a look at how the percentages change between the two groups:"
   ]
  },
  {
   "cell_type": "code",
   "execution_count": 25,
   "metadata": {},
   "outputs": [],
   "source": [
    "tot_a = session_length_by_group_a.sum()\n",
    "session_length_a_perce = session_length_by_group_a / tot_a"
   ]
  },
  {
   "cell_type": "code",
   "execution_count": 26,
   "metadata": {},
   "outputs": [
    {
     "data": {
      "text/plain": [
       "0     0.311551\n",
       "1     0.001427\n",
       "2     0.006287\n",
       "3     0.008190\n",
       "4     0.008530\n",
       "5     0.008088\n",
       "6     0.007748\n",
       "7     0.006491\n",
       "8     0.006932\n",
       "9     0.007102\n",
       "10    0.006321\n",
       "11    0.006762\n",
       "12    0.011316\n",
       "13    0.009617\n",
       "14    0.008835\n",
       "15    0.008224\n",
       "16    0.007544\n",
       "17    0.007374\n",
       "18    0.006389\n",
       "19    0.006898\n",
       "Name: session_length, dtype: float64"
      ]
     },
     "execution_count": 26,
     "metadata": {},
     "output_type": "execute_result"
    }
   ],
   "source": [
    "session_length_a_perce.sort_index().head(20)"
   ]
  },
  {
   "cell_type": "code",
   "execution_count": 27,
   "metadata": {},
   "outputs": [],
   "source": [
    "tot_b = session_length_by_group_b.sum()\n",
    "session_length_b_perce = session_length_by_group_b / tot_b"
   ]
  },
  {
   "cell_type": "code",
   "execution_count": 28,
   "metadata": {},
   "outputs": [
    {
     "data": {
      "text/plain": [
       "0     0.715577\n",
       "1     0.002176\n",
       "2     0.010026\n",
       "3     0.013160\n",
       "4     0.010751\n",
       "5     0.009508\n",
       "6     0.007746\n",
       "7     0.006839\n",
       "8     0.006192\n",
       "9     0.006554\n",
       "10    0.005958\n",
       "11    0.005803\n",
       "12    0.006658\n",
       "13    0.006839\n",
       "14    0.005492\n",
       "15    0.005440\n",
       "16    0.004430\n",
       "17    0.003653\n",
       "18    0.003705\n",
       "19    0.002979\n",
       "Name: session_length, dtype: float64"
      ]
     },
     "execution_count": 28,
     "metadata": {},
     "output_type": "execute_result"
    }
   ],
   "source": [
    "session_length_b_perce.sort_index().head(20)"
   ]
  },
  {
   "cell_type": "markdown",
   "metadata": {},
   "source": [
    "From previous percentages we can observe that the group \"b\" has the largest percentage of people with zero session length in comparison with group \"a\", also taking into account that group a is not so good as you see because only the 30% has session length is 0, so we can assume that it was a mistake"
   ]
  },
  {
   "cell_type": "markdown",
   "metadata": {},
   "source": [
    "# Executive Summarize"
   ]
  },
  {
   "cell_type": "markdown",
   "metadata": {},
   "source": [
    "1) Theres a significant difference between group \"a\" and \"b\" in terms of CTR, where you can clearly see that group \"b\" is more or less 1/3 of group \"a\" in a daily basis.\n",
    "\n",
    "2) The mayority of clicks and condense between the first 7 result positions.\n",
    "\n",
    "3) When analizing the zeros you see that it makes sense with the previous information, since group b has a smaller clickthrough rate and having zero search results would result in less clickthroughs, you confirm the hipothesis for this example that group a and b cannot be treateng as equals.\n",
    "\n",
    "4) Choosing \"group\" as variable to explain session_length we can observe that both groups has the majority of the people with session spend less than 60 seconds in a session. However, group \"b\" has more people close to zero seconds."
   ]
  }
 ],
 "metadata": {
  "kernelspec": {
   "display_name": "Python 3",
   "language": "python",
   "name": "python3"
  },
  "language_info": {
   "codemirror_mode": {
    "name": "ipython",
    "version": 3
   },
   "file_extension": ".py",
   "mimetype": "text/x-python",
   "name": "python",
   "nbconvert_exporter": "python",
   "pygments_lexer": "ipython3",
   "version": "3.7.3"
  }
 },
 "nbformat": 4,
 "nbformat_minor": 2
}
